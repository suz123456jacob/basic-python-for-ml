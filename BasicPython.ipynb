{
  "nbformat": 4,
  "nbformat_minor": 0,
  "metadata": {
    "colab": {
      "provenance": [],
      "authorship_tag": "ABX9TyNZ/bMZqsmudl4gxp+6U2+x",
      "include_colab_link": true
    },
    "kernelspec": {
      "name": "python3",
      "display_name": "Python 3"
    },
    "language_info": {
      "name": "python"
    }
  },
  "cells": [
    {
      "cell_type": "markdown",
      "metadata": {
        "id": "view-in-github",
        "colab_type": "text"
      },
      "source": [
        "<a href=\"https://colab.research.google.com/github/suz123456jacob/basic-python-for-ml/blob/main/BasicPython.ipynb\" target=\"_parent\"><img src=\"https://colab.research.google.com/assets/colab-badge.svg\" alt=\"Open In Colab\"/></a>"
      ]
    },
    {
      "cell_type": "markdown",
      "source": [
        "# Introduction to `python`\n",
        "\n",
        "first program: Display hello"
      ],
      "metadata": {
        "id": "fLzRNQmM7JGT"
      }
    },
    {
      "cell_type": "code",
      "source": [
        "print(\"Hello\")"
      ],
      "metadata": {
        "colab": {
          "base_uri": "https://localhost:8080/"
        },
        "id": "TzOUNDzr73Dr",
        "outputId": "3b80e70e-10d4-4006-9a39-3ff7c4ec80f4"
      },
      "execution_count": 1,
      "outputs": [
        {
          "output_type": "stream",
          "name": "stdout",
          "text": [
            "Hello\n"
          ]
        }
      ]
    },
    {
      "cell_type": "markdown",
      "source": [
        ">Program to assign an integer and display it"
      ],
      "metadata": {
        "id": "YxUqn0Fp9P2L"
      }
    },
    {
      "cell_type": "code",
      "source": [
        "a = 10\n",
        "print(a)"
      ],
      "metadata": {
        "colab": {
          "base_uri": "https://localhost:8080/"
        },
        "id": "pJ3BUbaT89aq",
        "outputId": "9de28e71-a052-4aa9-8058-abc9efa92f4f"
      },
      "execution_count": 2,
      "outputs": [
        {
          "output_type": "stream",
          "name": "stdout",
          "text": [
            "10\n"
          ]
        }
      ]
    },
    {
      "cell_type": "code",
      "source": [
        "a = 10\n",
        "print(\"Value of a is \", a)"
      ],
      "metadata": {
        "colab": {
          "base_uri": "https://localhost:8080/"
        },
        "id": "T5EHkhSP9Chj",
        "outputId": "87a415dd-ff08-457e-d79e-90e17101fb62"
      },
      "execution_count": 3,
      "outputs": [
        {
          "output_type": "stream",
          "name": "stdout",
          "text": [
            "Value of a is  10\n"
          ]
        }
      ]
    },
    {
      "cell_type": "markdown",
      "source": [
        ">Program to print sum of two numbers"
      ],
      "metadata": {
        "id": "E7VIni3g9qJJ"
      }
    },
    {
      "cell_type": "code",
      "source": [
        "a = 5\n",
        "b = 9\n",
        "print(\"Sum is\", a+ b)"
      ],
      "metadata": {
        "colab": {
          "base_uri": "https://localhost:8080/"
        },
        "id": "Q4s2kb9i9jZS",
        "outputId": "e966349b-ace7-4a4c-bcc3-411228b4646b"
      },
      "execution_count": 5,
      "outputs": [
        {
          "output_type": "stream",
          "name": "stdout",
          "text": [
            "Sum is 14\n"
          ]
        }
      ]
    },
    {
      "cell_type": "markdown",
      "source": [
        ">Take input from the user and find sum of two numbers"
      ],
      "metadata": {
        "id": "R8pfgAtn-4Wt"
      }
    },
    {
      "cell_type": "code",
      "source": [
        "a = input(\"Enter a number \" )\n",
        "b = input(\"Enter second number \")\n",
        "print(\"Sum is \", int(a) + int(b))"
      ],
      "metadata": {
        "colab": {
          "base_uri": "https://localhost:8080/"
        },
        "id": "Pk3AX-4k-Tta",
        "outputId": "c2ac8d38-0b43-4073-b853-33d65774efce"
      },
      "execution_count": 6,
      "outputs": [
        {
          "output_type": "stream",
          "name": "stdout",
          "text": [
            "Enter a number5\n",
            "Enter second number6\n",
            "Sum is  11\n"
          ]
        }
      ]
    }
  ]
}